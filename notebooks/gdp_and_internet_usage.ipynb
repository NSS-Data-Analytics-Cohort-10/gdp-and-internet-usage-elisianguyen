{
 "cells": [
  {
   "cell_type": "code",
   "execution_count": null,
   "id": "3ef5d7e0",
   "metadata": {},
   "outputs": [],
   "source": [
    "import pandas as pd\n",
    "import numpy as np\n",
    "import matplotlib.pyplot as plt\n",
    "import seaborn as sns"
   ]
  },
  {
   "cell_type": "markdown",
   "id": "9e6dd8dd",
   "metadata": {},
   "source": [
    "4. Using the pandas read_csv() method, read the GDP dataset into your notebook as a DataFrame called gdp_df. Take a look at the first few and last few rows to familiarize yourself with what is contained in this dataset.\n"
   ]
  },
  {
   "cell_type": "code",
   "execution_count": null,
   "id": "672f017b",
   "metadata": {},
   "outputs": [],
   "source": [
    "gdp_df = pd.read_csv('../data/gdp_percapita.csv')"
   ]
  },
  {
   "cell_type": "code",
   "execution_count": null,
   "id": "41221750",
   "metadata": {},
   "outputs": [],
   "source": [
    "gdp_df.head()"
   ]
  },
  {
   "cell_type": "code",
   "execution_count": null,
   "id": "d7859b32",
   "metadata": {},
   "outputs": [],
   "source": [
    "gdp_df.tail()"
   ]
  },
  {
   "cell_type": "markdown",
   "id": "53e24c08",
   "metadata": {},
   "source": [
    "5. How many rows and columns are in gdp_df? What are the data types of each column?"
   ]
  },
  {
   "cell_type": "code",
   "execution_count": null,
   "id": "a920c09c",
   "metadata": {},
   "outputs": [],
   "source": [
    "gdp_df.shape"
   ]
  },
  {
   "cell_type": "code",
   "execution_count": null,
   "id": "5841fa0e",
   "metadata": {},
   "outputs": [],
   "source": [
    "gdp_df.info()"
   ]
  },
  {
   "cell_type": "markdown",
   "id": "5c49e50b",
   "metadata": {},
   "source": [
    "Answers: 7662 rows & 4 columns - data types above "
   ]
  },
  {
   "cell_type": "markdown",
   "id": "3f5d8f7d",
   "metadata": {},
   "source": [
    "6. Drop the Value Footnotes column and rename the remaining three to 'Country', 'Year', and 'GDP_Per_Capita'."
   ]
  },
  {
   "cell_type": "code",
   "execution_count": null,
   "id": "68f84fc3",
   "metadata": {},
   "outputs": [],
   "source": [
    "gdp_df = gdp_df.rename(columns={\"Country or Area\":\"Country\", \"Value\":\"GDP_Per_Capita\"})"
   ]
  },
  {
   "cell_type": "code",
   "execution_count": null,
   "id": "6ba6c4bd",
   "metadata": {},
   "outputs": [],
   "source": [
    "gdp_df = gdp_df.drop(\"Value Footnotes\", axis=1)"
   ]
  },
  {
   "cell_type": "code",
   "execution_count": null,
   "id": "5627e082",
   "metadata": {},
   "outputs": [],
   "source": [
    "print(gdp_df.head())"
   ]
  },
  {
   "cell_type": "markdown",
   "id": "040f49d9",
   "metadata": {},
   "source": [
    "7. How many countries have data for all years? Which countries are missing many years of data? Look at the number of observations per year. What do you notice?"
   ]
  },
  {
   "cell_type": "markdown",
   "id": "0e8badad",
   "metadata": {},
   "source": [
    "Answer: \n",
    "202 countries have data for all years\n",
    "40 countries are missing dates\n",
    "31 countries have less than 30 years recorded\n",
    "There are less years recorded the smaller the country gets."
   ]
  },
  {
   "cell_type": "code",
   "execution_count": null,
   "id": "f1193108",
   "metadata": {},
   "outputs": [],
   "source": [
    "unique_years = gdp_df[\"Year\"].unique() #find unique years\n",
    "print(unique_years)\n",
    "print(len(unique_years))"
   ]
  },
  {
   "cell_type": "code",
   "execution_count": null,
   "id": "13efb464",
   "metadata": {},
   "outputs": [],
   "source": [
    "count_years = gdp_df.groupby(\"Country\").size().reset_index(name=\"Count\") #groups\n",
    "print(count_years) #count years by country"
   ]
  },
  {
   "cell_type": "code",
   "execution_count": null,
   "id": "60a567aa",
   "metadata": {},
   "outputs": [],
   "source": [
    "equal_33 = count_years[count_years.Count == 33] #count countries with all years/complete data\n",
    "print(len(equal_33)) #202 countries with all years recorded"
   ]
  },
  {
   "cell_type": "code",
   "execution_count": null,
   "id": "b139c39c",
   "metadata": {},
   "outputs": [],
   "source": [
    "not_33 = count_years[count_years.Count != 33] #count countries that do not have all years\n",
    "count_not = len(not_33[\"Count\"])\n",
    "print(count_not) # 40 countries that do not have exactly 33 countries"
   ]
  },
  {
   "cell_type": "code",
   "execution_count": null,
   "id": "184be435",
   "metadata": {},
   "outputs": [],
   "source": [
    "not_33_sorted = not_33.sort_values(\"Count\")\n",
    "print(not_33_sorted)"
   ]
  },
  {
   "cell_type": "code",
   "execution_count": null,
   "id": "cd0c0ab7",
   "metadata": {},
   "outputs": [],
   "source": [
    "not33_lessthan30 = not_33_sorted[not_33_sorted[\"Count\"] < 30]\n",
    "less_than_30 = len(not33_lessthan30[\"Count\"])\n",
    "print(less_than_30) # 31 countries have less than 30 years recorded"
   ]
  },
  {
   "cell_type": "markdown",
   "id": "afc258a0",
   "metadata": {},
   "source": [
    "8. In this question, you're going to create some plots to show the distribution of GDP per capita for the year 2020. Go to the Python Graph Gallery (https://www.python-graph-gallery.com/) and look at the different types of plots under the Distribution section. \n",
    "Create a histogram, a density plot, a boxplot, and a violin plot. What do you notice when you look at these plots? How do the plots compare and what information can you get out of one type that you can't necessarily get out of the others?"
   ]
  },
  {
   "cell_type": "markdown",
   "id": "ea8efe92",
   "metadata": {},
   "source": [
    "Answer: Histograms and density plots show distributions, while the violin plot and the box plot show summary and shape of the distributions."
   ]
  },
  {
   "cell_type": "code",
   "execution_count": null,
   "id": "5411c035",
   "metadata": {},
   "outputs": [],
   "source": [
    "gdp_2020 = gdp_df[gdp_df[\"Year\"]==2020] #subset year to 2020\n",
    "\n",
    "gdp_2020[\"GDP_Per_Capita\"].hist(bins=5)\n",
    "\n",
    "plt.title(\"2020 GDP Per Capita Histogram\")\n",
    "plt.xlabel(\"GDP_Per_Capita\")\n",
    "plt.ylabel(\"Frequency\")\n",
    "\n",
    "plt.show()"
   ]
  },
  {
   "cell_type": "code",
   "execution_count": null,
   "id": "a1fde05d",
   "metadata": {},
   "outputs": [],
   "source": [
    "sns.kdeplot(gdp_2020['GDP_Per_Capita'], fill=True)\n",
    "plt.title(\"2020 GDP Per Capita Density Chart\")\n",
    "plt.show()"
   ]
  },
  {
   "cell_type": "code",
   "execution_count": null,
   "id": "e85f4f66",
   "metadata": {},
   "outputs": [],
   "source": [
    "sns.boxplot(y=gdp_2020[\"GDP_Per_Capita\"])\n",
    "plt.title(\"2020 GDP Per Capita Box Plot\")\n",
    "plt.show()"
   ]
  },
  {
   "cell_type": "code",
   "execution_count": null,
   "id": "65d06234",
   "metadata": {},
   "outputs": [],
   "source": [
    "sns.violinplot(y=gdp_2020[\"GDP_Per_Capita\"])\n",
    "plt.title(\"2020 GDP Per Capita Violin Plot\")\n",
    "plt.show()"
   ]
  },
  {
   "cell_type": "markdown",
   "id": "8e4c4e83",
   "metadata": {},
   "source": [
    "9. What was the median GDP per capita value in 2020?"
   ]
  },
  {
   "cell_type": "code",
   "execution_count": null,
   "id": "2117bc02",
   "metadata": {},
   "outputs": [],
   "source": [
    "print(gdp_2020[\"GDP_Per_Capita\"].median())"
   ]
  },
  {
   "cell_type": "markdown",
   "id": "19a72c64",
   "metadata": {},
   "source": [
    "10. For this question, you're going to create some visualizations to compare GDP per capita values for the years 1990, 2000, 2010, and 2020. Start by subsetting your data to just these 4 years into a new DataFrame named gdp_decades. Using this, create the following 4 plots:\n",
    "\t* A boxplot\n",
    "\t* A barplot (check out the Barplot with Seaborn section: https://www.python-graph-gallery.com/barplot/#Seaborn)\n",
    "\t* A scatterplot\n",
    "\t* A scatterplot with a trend line overlaid (see this regplot example: https://www.python-graph-gallery.com/42-custom-linear-regression-fit-seaborn)  \n",
    "Comment on what you observe has happened to GDP values over time and the relative strengths and weaknesses of each type of plot."
   ]
  },
  {
   "cell_type": "code",
   "execution_count": null,
   "id": "5431746b",
   "metadata": {},
   "outputs": [],
   "source": [
    "gdp_decades = gdp_df[gdp_df[\"Year\"].isin([1990, 2000, 2010, 2020])] #subset for specified years\n",
    "print(gdp_decades.head())"
   ]
  },
  {
   "cell_type": "code",
   "execution_count": null,
   "id": "222a6137",
   "metadata": {},
   "outputs": [],
   "source": [
    "sns.boxplot(x=gdp_decades[\"Year\"], y=gdp_decades[\"GDP_Per_Capita\"])\n",
    "plt.title(\"1990, 2000, 2010, 2020 GDP Per Capita Box Plot\")\n",
    "plt.show()"
   ]
  },
  {
   "cell_type": "code",
   "execution_count": null,
   "id": "fbd6416e",
   "metadata": {},
   "outputs": [],
   "source": [
    "sns.barplot(x=gdp_decades[\"Year\"], y=gdp_decades[\"GDP_Per_Capita\"])"
   ]
  },
  {
   "cell_type": "code",
   "execution_count": null,
   "id": "bb2e32a0",
   "metadata": {},
   "outputs": [],
   "source": [
    "sns.regplot(x=gdp_decades[\"Year\"], y=gdp_decades[\"GDP_Per_Capita\"], fit_reg=False)"
   ]
  },
  {
   "cell_type": "code",
   "execution_count": null,
   "id": "08d8815e",
   "metadata": {},
   "outputs": [],
   "source": [
    "sns.regplot(x=gdp_decades[\"Year\"], y=gdp_decades[\"GDP_Per_Capita\"], line_kws={\"color\":\"r\",\"alpha\":0.7,\"lw\":5})"
   ]
  },
  {
   "cell_type": "markdown",
   "id": "19922927",
   "metadata": {},
   "source": [
    "11. Which country was the first to have a GDP per capita greater than $100,000?"
   ]
  },
  {
   "cell_type": "markdown",
   "id": "59f80540",
   "metadata": {},
   "source": [
    "Answer: United Arab Emirates"
   ]
  },
  {
   "cell_type": "code",
   "execution_count": null,
   "id": "280a0ccb",
   "metadata": {},
   "outputs": [],
   "source": [
    "over_10k = gdp_df[gdp_df[\"GDP_Per_Capita\"]>=100000].sort_values(\"Year\")\n",
    "print(over_10k)"
   ]
  },
  {
   "cell_type": "markdown",
   "id": "9f4c4745",
   "metadata": {},
   "source": [
    "12. Which country had the highest GDP per capita in 2020? Create a plot showing how this country's GDP per capita has changed over the timespan of the dataset."
   ]
  },
  {
   "cell_type": "code",
   "execution_count": null,
   "id": "a6b8c446",
   "metadata": {},
   "outputs": [],
   "source": [
    "gdp_2020 = gdp_2020.sort_values(\"GDP_Per_Capita\", ascending=False) #sort by descending \n",
    "print(gdp_2020) #Luxembourg "
   ]
  },
  {
   "cell_type": "code",
   "execution_count": null,
   "id": "198f967b",
   "metadata": {},
   "outputs": [],
   "source": [
    "gdp_lux = gdp_df[gdp_df[\"Country\"] == \"Luxembourg\"]\n",
    "gdp_lux.plot(x=\"Year\", y=\"GDP_Per_Capita\")\n",
    "plt.show()"
   ]
  },
  {
   "cell_type": "markdown",
   "id": "ba24ce6a",
   "metadata": {},
   "source": [
    "13. Which country had the lowest GDP per capita in 2020? Create a plot showing how this country's GDP per capita has changed over the timespan of the dataset. "
   ]
  },
  {
   "cell_type": "code",
   "execution_count": null,
   "id": "1c01de94",
   "metadata": {},
   "outputs": [],
   "source": [
    "gdp_2020 = gdp_2020.sort_values(\"GDP_Per_Capita\") #sort ascending\n",
    "print(gdp_2020) #burundi\n",
    "\n",
    "gdp_bur = gdp_df[gdp_df[\"Country\"] == \"Burundi\"]\n",
    "gdp_bur.plot(x=\"Year\", y=\"GDP_Per_Capita\")\n",
    "plt.show()"
   ]
  },
  {
   "cell_type": "markdown",
   "id": "0ad41acb",
   "metadata": {},
   "source": [
    "**Bonus question:** \n",
    "Is it true in general that coutries had a higher GDP per capita in 2020 than in 1990? \n",
    "Which countries had lower GDP per capita in 2020 than in 1990?"
   ]
  },
  {
   "cell_type": "code",
   "execution_count": null,
   "id": "5990316a",
   "metadata": {},
   "outputs": [],
   "source": [
    "#Part 1 answer\n",
    "gdp_1990 = gdp_df[gdp_df[\"Year\"]==1990]\n",
    "mean_1990 = gdp_1990[\"GDP_Per_Capita\"].mean()\n",
    "mean_2020 = gdp_2020[\"GDP_Per_Capita\"].mean()\n",
    "print(mean_1990)\n",
    "print(mean_2020)\n",
    "print(mean_1990 > mean_2020) # calculate the average of each year "
   ]
  },
  {
   "cell_type": "markdown",
   "id": "4cd384b3",
   "metadata": {},
   "source": [
    "14. Read in the internet use dataset into a DataFrame named `internet_df`. You will likely get errors when doing this. Check the arguments for the read_csv function to find ones that can help correct the errors (https://pandas.pydata.org/docs/reference/api/pandas.read_csv.html) Once you are able to read it in, take per a look at the top and bottom few rows to make sure that it has been read in correctly. Also, check the datatypes of the columns."
   ]
  },
  {
   "cell_type": "code",
   "execution_count": null,
   "id": "5462f1c5",
   "metadata": {},
   "outputs": [],
   "source": [
    "internet_df = pd.read_csv('../data/internet_use.csv',nrows = 4495) #missing values after row 4495\n",
    "print(internet_df.head())\n",
    "print(internet_df.tail())\n",
    "print(internet_df.info()) "
   ]
  },
  {
   "cell_type": "markdown",
   "id": "bd69d328",
   "metadata": {},
   "source": [
    "15. Drop the `Value Footnotes` column and rename the remaining three to 'Country', 'Year', and 'Internet_Users_Pct'."
   ]
  },
  {
   "cell_type": "code",
   "execution_count": null,
   "id": "b24874e9",
   "metadata": {},
   "outputs": [],
   "source": [
    "internet_df = internet_df.rename(columns={\"Country or Area\":\"Country\", \"Value\":\"GDP_Per_Capita\"})\n",
    "print(internet_df.head())"
   ]
  },
  {
   "cell_type": "markdown",
   "id": "3c481323",
   "metadata": {},
   "source": [
    "16. Look at the number of observations in this dataset per year. What do you notice?"
   ]
  },
  {
   "cell_type": "code",
   "execution_count": null,
   "id": "4ee3e15c",
   "metadata": {},
   "outputs": [],
   "source": [
    "print(internet_df.describe())"
   ]
  },
  {
   "cell_type": "markdown",
   "id": "d4ddd210",
   "metadata": {},
   "source": [
    "17. What is the first year to have a non-zero internet users percentage value?"
   ]
  },
  {
   "cell_type": "markdown",
   "id": "62411483",
   "metadata": {},
   "source": [
    "18. How does the distribution of internet users percent differ for 2000 and 2014?"
   ]
  },
  {
   "cell_type": "markdown",
   "id": "1bdcc32a",
   "metadata": {},
   "source": [
    "19. For how many countries was the percentage of internet users below 5% in 2014?"
   ]
  },
  {
   "cell_type": "markdown",
   "id": "32198a9c",
   "metadata": {},
   "source": [
    "20. Merge the two DataFrames to one. Do this in a way that keeps **all rows** from each of the two DataFrames. Call the new DataFrame `gdp_and_internet_use`. Look at the first and last few rows to confirm that it merged correctly."
   ]
  },
  {
   "cell_type": "markdown",
   "id": "30c1093e",
   "metadata": {},
   "source": [
    "21. Find the three countries with the highest internet users percentage in 2014. Use a seaborn FacetGrid (https://seaborn.pydata.org/generated/seaborn.FacetGrid.html) to compare how the GDP per capita has changed over time for these three countries. What do you notice?"
   ]
  },
  {
   "cell_type": "code",
   "execution_count": null,
   "id": "5f3fadbf",
   "metadata": {},
   "outputs": [],
   "source": [
    "22. Subset `gdp_and_internet_use` to just the year 2014. Save this as a new dataframe named `gdp_and_internet_use_2014`."
   ]
  },
  {
   "cell_type": "markdown",
   "id": "f6eefaf1",
   "metadata": {},
   "source": [
    "23. Create a plot which compares Internet Users Percentage and GDP per Capita for the year 2014. What do you notice from this plot? If you see any unusual points, investigate them."
   ]
  },
  {
   "cell_type": "markdown",
   "id": "78a94f75",
   "metadata": {},
   "source": [
    "24. **Stretch Question:** Use the `qcut` function from pandas (https://pandas.pydata.org/docs/reference/api/pandas.qcut.html) to divide countries in `gdp_per_capita_2014` into three groups based on their GDP per capita values. Label these groups as \"Low\", \"Medium\", and \"High\". Put these labels in a new column, named \"GDP_group\"."
   ]
  },
  {
   "cell_type": "markdown",
   "id": "1a001cc4",
   "metadata": {},
   "source": [
    "25. **Stretch Question:** How does the median internet users percentage compare for the three gdp groups?"
   ]
  },
  {
   "cell_type": "markdown",
   "id": "45c14211",
   "metadata": {},
   "source": [
    "bonus:\n",
    "1.    Download another data set from the UN data (http://data.un.org/Explorer.aspx) to merge with your data and explore."
   ]
  }
 ],
 "metadata": {
  "kernelspec": {
   "display_name": "Python 3 (ipykernel)",
   "language": "python",
   "name": "python3"
  },
  "language_info": {
   "codemirror_mode": {
    "name": "ipython",
    "version": 3
   },
   "file_extension": ".py",
   "mimetype": "text/x-python",
   "name": "python",
   "nbconvert_exporter": "python",
   "pygments_lexer": "ipython3",
   "version": "3.11.5"
  }
 },
 "nbformat": 4,
 "nbformat_minor": 5
}
